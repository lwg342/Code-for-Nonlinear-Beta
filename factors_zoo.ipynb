{
 "cells": [
  {
   "cell_type": "code",
   "execution_count": 2,
   "metadata": {},
   "outputs": [],
   "source": [
    "import pandas as pd\n",
    "import numpy as np\n",
    "from scipy import linalg as LA\n",
    "from scipy import stats as ST\n",
    "from matplotlib import pyplot as plt\n",
    "from statsmodels.graphics.tsaplots import plot_acf\n",
    "import statsmodels.api as sm\n",
    "from statsmodels.distributions.empirical_distribution import ECDF\n",
    "from myfunc import OLS_mean, kernel_test, loc_poly,my_bootstrap"
   ]
  },
  {
   "cell_type": "code",
   "execution_count": 3,
   "metadata": {},
   "outputs": [],
   "source": [
    "def OLS_parameter(X, Y):\n",
    "    beta = sm.OLS(Y, sm.add_constant(X)).fit().params.T\n",
    "    return beta"
   ]
  },
  {
   "cell_type": "markdown",
   "metadata": {},
   "source": [
    " # Import Data\n",
    " 1. Return data. Here I use S&P500 constituents, can be extended to more stocks\n",
    " 2. Import Factor data from Factor Zoo"
   ]
  },
  {
   "cell_type": "code",
   "execution_count": 4,
   "metadata": {},
   "outputs": [
    {
     "data": {
      "text/html": [
       "<div>\n",
       "<style scoped>\n",
       "    .dataframe tbody tr th:only-of-type {\n",
       "        vertical-align: middle;\n",
       "    }\n",
       "\n",
       "    .dataframe tbody tr th {\n",
       "        vertical-align: top;\n",
       "    }\n",
       "\n",
       "    .dataframe thead th {\n",
       "        text-align: right;\n",
       "    }\n",
       "</style>\n",
       "<table border=\"1\" class=\"dataframe\">\n",
       "  <thead>\n",
       "    <tr style=\"text-align: right;\">\n",
       "      <th>PERMNO</th>\n",
       "      <th>10065</th>\n",
       "      <th>10145</th>\n",
       "      <th>10516</th>\n",
       "      <th>10656</th>\n",
       "      <th>10866</th>\n",
       "    </tr>\n",
       "    <tr>\n",
       "      <th>date</th>\n",
       "      <th></th>\n",
       "      <th></th>\n",
       "      <th></th>\n",
       "      <th></th>\n",
       "      <th></th>\n",
       "    </tr>\n",
       "  </thead>\n",
       "  <tbody>\n",
       "    <tr>\n",
       "      <th>1976-07-30</th>\n",
       "      <td>0.000000</td>\n",
       "      <td>0.003215</td>\n",
       "      <td>-0.108108</td>\n",
       "      <td>-0.076190</td>\n",
       "      <td>0.032967</td>\n",
       "    </tr>\n",
       "    <tr>\n",
       "      <th>1976-08-31</th>\n",
       "      <td>0.000000</td>\n",
       "      <td>-0.046154</td>\n",
       "      <td>-0.134343</td>\n",
       "      <td>0.185567</td>\n",
       "      <td>-0.101064</td>\n",
       "    </tr>\n",
       "    <tr>\n",
       "      <th>1976-09-30</th>\n",
       "      <td>-0.002151</td>\n",
       "      <td>0.051020</td>\n",
       "      <td>-0.070175</td>\n",
       "      <td>-0.017391</td>\n",
       "      <td>-0.008284</td>\n",
       "    </tr>\n",
       "    <tr>\n",
       "      <th>1976-10-29</th>\n",
       "      <td>0.076087</td>\n",
       "      <td>-0.048544</td>\n",
       "      <td>0.044025</td>\n",
       "      <td>-0.053097</td>\n",
       "      <td>-0.030303</td>\n",
       "    </tr>\n",
       "    <tr>\n",
       "      <th>1976-11-30</th>\n",
       "      <td>-0.030303</td>\n",
       "      <td>-0.052381</td>\n",
       "      <td>-0.003614</td>\n",
       "      <td>0.074766</td>\n",
       "      <td>0.087500</td>\n",
       "    </tr>\n",
       "  </tbody>\n",
       "</table>\n",
       "</div>"
      ],
      "text/plain": [
       "PERMNO         10065     10145     10516     10656     10866\n",
       "date                                                        \n",
       "1976-07-30  0.000000  0.003215 -0.108108 -0.076190  0.032967\n",
       "1976-08-31  0.000000 -0.046154 -0.134343  0.185567 -0.101064\n",
       "1976-09-30 -0.002151  0.051020 -0.070175 -0.017391 -0.008284\n",
       "1976-10-29  0.076087 -0.048544  0.044025 -0.053097 -0.030303\n",
       "1976-11-30 -0.030303 -0.052381 -0.003614  0.074766  0.087500"
      ]
     },
     "execution_count": 4,
     "metadata": {},
     "output_type": "execute_result"
    }
   ],
   "source": [
    "DATA = pd.read_csv(\n",
    "    'HPRET_monthly_correspondint_to_factor_zoo_all.csv')\n",
    "DATA.date = pd.to_datetime(DATA.date, format='%Y%m%d')\n",
    "\n",
    "DATA = DATA.drop(DATA[DATA.RET == 'C'].index)\n",
    "DATA = DATA.drop(DATA[DATA.RET == 'B'].index)\n",
    "DATA.RET = DATA['RET'].astype('float')\n",
    "RET = DATA.pivot_table('RET', index='PERMNO', columns='date')\n",
    "RET = RET.dropna(0).transpose()\n",
    "RET.iloc[0:5,0:5]"
   ]
  },
  {
   "cell_type": "code",
   "execution_count": 5,
   "metadata": {},
   "outputs": [
    {
     "data": {
      "text/html": [
       "<div>\n",
       "<style scoped>\n",
       "    .dataframe tbody tr th:only-of-type {\n",
       "        vertical-align: middle;\n",
       "    }\n",
       "\n",
       "    .dataframe tbody tr th {\n",
       "        vertical-align: top;\n",
       "    }\n",
       "\n",
       "    .dataframe thead th {\n",
       "        text-align: right;\n",
       "    }\n",
       "</style>\n",
       "<table border=\"1\" class=\"dataframe\">\n",
       "  <thead>\n",
       "    <tr style=\"text-align: right;\">\n",
       "      <th></th>\n",
       "      <th>BAB</th>\n",
       "      <th>CMA</th>\n",
       "      <th>HML</th>\n",
       "      <th>HML_Devil</th>\n",
       "      <th>HXZ_IA</th>\n",
       "    </tr>\n",
       "    <tr>\n",
       "      <th>date</th>\n",
       "      <th></th>\n",
       "      <th></th>\n",
       "      <th></th>\n",
       "      <th></th>\n",
       "      <th></th>\n",
       "    </tr>\n",
       "  </thead>\n",
       "  <tbody>\n",
       "    <tr>\n",
       "      <th>1976-07-30</th>\n",
       "      <td>0.018660</td>\n",
       "      <td>0.0029</td>\n",
       "      <td>0.0174</td>\n",
       "      <td>0.022995</td>\n",
       "      <td>0.009213</td>\n",
       "    </tr>\n",
       "    <tr>\n",
       "      <th>1976-08-31</th>\n",
       "      <td>0.013834</td>\n",
       "      <td>-0.0059</td>\n",
       "      <td>0.0079</td>\n",
       "      <td>0.013759</td>\n",
       "      <td>-0.005963</td>\n",
       "    </tr>\n",
       "    <tr>\n",
       "      <th>1976-09-30</th>\n",
       "      <td>0.017247</td>\n",
       "      <td>-0.0114</td>\n",
       "      <td>-0.0029</td>\n",
       "      <td>0.000902</td>\n",
       "      <td>-0.014150</td>\n",
       "    </tr>\n",
       "    <tr>\n",
       "      <th>1976-10-29</th>\n",
       "      <td>0.011174</td>\n",
       "      <td>-0.0031</td>\n",
       "      <td>-0.0013</td>\n",
       "      <td>0.002927</td>\n",
       "      <td>-0.011151</td>\n",
       "    </tr>\n",
       "    <tr>\n",
       "      <th>1976-11-30</th>\n",
       "      <td>0.004498</td>\n",
       "      <td>0.0008</td>\n",
       "      <td>0.0151</td>\n",
       "      <td>0.013638</td>\n",
       "      <td>-0.002691</td>\n",
       "    </tr>\n",
       "  </tbody>\n",
       "</table>\n",
       "</div>"
      ],
      "text/plain": [
       "                 BAB     CMA     HML  HML_Devil    HXZ_IA\n",
       "date                                                     \n",
       "1976-07-30  0.018660  0.0029  0.0174   0.022995  0.009213\n",
       "1976-08-31  0.013834 -0.0059  0.0079   0.013759 -0.005963\n",
       "1976-09-30  0.017247 -0.0114 -0.0029   0.000902 -0.014150\n",
       "1976-10-29  0.011174 -0.0031 -0.0013   0.002927 -0.011151\n",
       "1976-11-30  0.004498  0.0008  0.0151   0.013638 -0.002691"
      ]
     },
     "execution_count": 5,
     "metadata": {},
     "output_type": "execute_result"
    }
   ],
   "source": [
    "FACTOR = pd.read_csv(\n",
    "    'factors_zoo.csv')\n",
    "FACTOR.rename(columns={'  Date': 'date'}, inplace=True)\n",
    "FACTOR.date = pd.to_datetime(FACTOR.date, format='%Y%m%d')\n",
    "FACTOR = FACTOR.pivot_table(index = 'date')\n",
    "FACTOR = FACTOR.dropna(axis=1)\n",
    "FACTOR.iloc[0:5,0:5]"
   ]
  },
  {
   "cell_type": "markdown",
   "metadata": {},
   "source": [
    " # Individual test of nonlinearity"
   ]
  },
  {
   "cell_type": "code",
   "execution_count": null,
   "metadata": {},
   "outputs": [],
   "source": [
    "Result = np.zeros(147)\n",
    "Critical_left = np.zeros(147)\n",
    "Critical_right = np.zeros(147)\n",
    "average_ret = np.array(RET.mean())\n",
    "for i in range(0,1):\n",
    "    beta = np.array(OLS_parameter(FACTOR.iloc[:,i], RET).iloc[:, 1])\n",
    "    # average_ret = np.array(RET.iloc[8,:])\n",
    "    # plt.figure\n",
    "    # plt.scatter(beta, average_ret)\n",
    "    Result[i], Critical_left[i], Critical_right[i] = my_bootstrap(beta, average_ret)\n",
    "    print(i)\n",
    "# pd.DataFrame([Result, Critical_left,Critical_right]).to_csv('result.csv')\n"
   ]
  },
  {
   "cell_type": "code",
   "execution_count": 8,
   "metadata": {},
   "outputs": [
    {
     "data": {
      "text/plain": [
       "0"
      ]
     },
     "execution_count": 8,
     "metadata": {},
     "output_type": "execute_result"
    }
   ],
   "source": [
    "result = pd.read_csv('result.csv')\n",
    "(result.iloc[0, :] < result.iloc[1,:]).sum()\n",
    "(result.iloc[0, :] > result.iloc[2, :]).sum()"
   ]
  }
 ],
 "metadata": {
  "kernelspec": {
   "display_name": "Python 3",
   "language": "python",
   "name": "python3"
  },
  "language_info": {
   "codemirror_mode": {
    "name": "ipython",
    "version": 3
   },
   "file_extension": ".py",
   "mimetype": "text/x-python",
   "name": "python",
   "nbconvert_exporter": "python",
   "pygments_lexer": "ipython3",
   "version": "3.7.7"
  }
 },
 "nbformat": 4,
 "nbformat_minor": 2
}
