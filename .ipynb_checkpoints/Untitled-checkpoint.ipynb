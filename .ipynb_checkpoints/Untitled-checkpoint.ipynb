{
 "cells": [
  {
   "cell_type": "code",
   "execution_count": 1,
   "metadata": {},
   "outputs": [],
   "source": [
    "import pandas as pd\n",
    "import numpy as np\n",
    "from sklearn.decomposition import PCA"
   ]
  },
  {
   "cell_type": "code",
   "execution_count": 2,
   "metadata": {},
   "outputs": [
    {
     "name": "stderr",
     "output_type": "stream",
     "text": [
      "/opt/anaconda3/lib/python3.7/site-packages/numpy/lib/arraysetops.py:569: FutureWarning: elementwise comparison failed; returning scalar instead, but in the future will perform elementwise comparison\n",
      "  mask |= (ar1 == a)\n"
     ]
    },
    {
     "data": {
      "text/plain": [
       "Index(['DATE', 'n', 'RET', 'alpha', 'b_mkt', 'b_smb', 'b_hml', 'b_umd', 'ivol',\n",
       "       'tvol', 'R2', 'exret'],\n",
       "      dtype='object')"
      ]
     },
     "execution_count": 2,
     "metadata": {},
     "output_type": "execute_result"
    }
   ],
   "source": [
    "T= pd.read_csv(\"/Users/lwg342/OneDrive - University of Cambridge/Utility/Data/Stock data/cleaned_sp500_1990_2019_4factors_beta_suite.csv\",index_col='PERMNO')\n",
    "T.columns"
   ]
  },
  {
   "cell_type": "code",
   "execution_count": 3,
   "metadata": {},
   "outputs": [
    {
     "data": {
      "text/html": [
       "<div>\n",
       "<style scoped>\n",
       "    .dataframe tbody tr th:only-of-type {\n",
       "        vertical-align: middle;\n",
       "    }\n",
       "\n",
       "    .dataframe tbody tr th {\n",
       "        vertical-align: top;\n",
       "    }\n",
       "\n",
       "    .dataframe thead th {\n",
       "        text-align: right;\n",
       "    }\n",
       "</style>\n",
       "<table border=\"1\" class=\"dataframe\">\n",
       "  <thead>\n",
       "    <tr style=\"text-align: right;\">\n",
       "      <th></th>\n",
       "      <th>DATE</th>\n",
       "      <th>n</th>\n",
       "      <th>RET</th>\n",
       "      <th>alpha</th>\n",
       "      <th>b_mkt</th>\n",
       "      <th>b_smb</th>\n",
       "      <th>b_hml</th>\n",
       "      <th>b_umd</th>\n",
       "      <th>ivol</th>\n",
       "      <th>tvol</th>\n",
       "      <th>R2</th>\n",
       "      <th>exret</th>\n",
       "    </tr>\n",
       "    <tr>\n",
       "      <th>PERMNO</th>\n",
       "      <th></th>\n",
       "      <th></th>\n",
       "      <th></th>\n",
       "      <th></th>\n",
       "      <th></th>\n",
       "      <th></th>\n",
       "      <th></th>\n",
       "      <th></th>\n",
       "      <th></th>\n",
       "      <th></th>\n",
       "      <th></th>\n",
       "      <th></th>\n",
       "    </tr>\n",
       "  </thead>\n",
       "  <tbody>\n",
       "    <tr>\n",
       "      <th>10104</th>\n",
       "      <td>1990-01-02</td>\n",
       "      <td>252</td>\n",
       "      <td>0.032086</td>\n",
       "      <td>0.0027</td>\n",
       "      <td>1.941</td>\n",
       "      <td>0.6236</td>\n",
       "      <td>-1.6182</td>\n",
       "      <td>-0.5785</td>\n",
       "      <td>0.021622</td>\n",
       "      <td>0.025579</td>\n",
       "      <td>0.285446</td>\n",
       "      <td>0.000735</td>\n",
       "    </tr>\n",
       "    <tr>\n",
       "      <th>10104</th>\n",
       "      <td>1990-01-03</td>\n",
       "      <td>252</td>\n",
       "      <td>-0.108808</td>\n",
       "      <td>0.0018</td>\n",
       "      <td>1.766</td>\n",
       "      <td>0.2440</td>\n",
       "      <td>-1.1031</td>\n",
       "      <td>-0.1127</td>\n",
       "      <td>0.022831</td>\n",
       "      <td>0.026365</td>\n",
       "      <td>0.250086</td>\n",
       "      <td>-0.119444</td>\n",
       "    </tr>\n",
       "    <tr>\n",
       "      <th>10104</th>\n",
       "      <td>1990-01-04</td>\n",
       "      <td>252</td>\n",
       "      <td>0.029070</td>\n",
       "      <td>0.0019</td>\n",
       "      <td>1.688</td>\n",
       "      <td>0.2192</td>\n",
       "      <td>-1.4416</td>\n",
       "      <td>-0.2309</td>\n",
       "      <td>0.022825</td>\n",
       "      <td>0.026327</td>\n",
       "      <td>0.248347</td>\n",
       "      <td>0.037147</td>\n",
       "    </tr>\n",
       "    <tr>\n",
       "      <th>10104</th>\n",
       "      <td>1990-01-05</td>\n",
       "      <td>252</td>\n",
       "      <td>-0.056497</td>\n",
       "      <td>0.0017</td>\n",
       "      <td>1.778</td>\n",
       "      <td>0.2132</td>\n",
       "      <td>-1.0324</td>\n",
       "      <td>-0.1061</td>\n",
       "      <td>0.022970</td>\n",
       "      <td>0.026539</td>\n",
       "      <td>0.250870</td>\n",
       "      <td>-0.048152</td>\n",
       "    </tr>\n",
       "    <tr>\n",
       "      <th>10104</th>\n",
       "      <td>1990-01-08</td>\n",
       "      <td>252</td>\n",
       "      <td>0.035928</td>\n",
       "      <td>0.0018</td>\n",
       "      <td>1.763</td>\n",
       "      <td>0.1779</td>\n",
       "      <td>-1.0380</td>\n",
       "      <td>-0.0904</td>\n",
       "      <td>0.023020</td>\n",
       "      <td>0.026601</td>\n",
       "      <td>0.251126</td>\n",
       "      <td>0.028964</td>\n",
       "    </tr>\n",
       "  </tbody>\n",
       "</table>\n",
       "</div>"
      ],
      "text/plain": [
       "              DATE    n       RET   alpha  b_mkt   b_smb   b_hml   b_umd  \\\n",
       "PERMNO                                                                     \n",
       "10104   1990-01-02  252  0.032086  0.0027  1.941  0.6236 -1.6182 -0.5785   \n",
       "10104   1990-01-03  252 -0.108808  0.0018  1.766  0.2440 -1.1031 -0.1127   \n",
       "10104   1990-01-04  252  0.029070  0.0019  1.688  0.2192 -1.4416 -0.2309   \n",
       "10104   1990-01-05  252 -0.056497  0.0017  1.778  0.2132 -1.0324 -0.1061   \n",
       "10104   1990-01-08  252  0.035928  0.0018  1.763  0.1779 -1.0380 -0.0904   \n",
       "\n",
       "            ivol      tvol        R2     exret  \n",
       "PERMNO                                          \n",
       "10104   0.021622  0.025579  0.285446  0.000735  \n",
       "10104   0.022831  0.026365  0.250086 -0.119444  \n",
       "10104   0.022825  0.026327  0.248347  0.037147  \n",
       "10104   0.022970  0.026539  0.250870 -0.048152  \n",
       "10104   0.023020  0.026601  0.251126  0.028964  "
      ]
     },
     "execution_count": 3,
     "metadata": {},
     "output_type": "execute_result"
    }
   ],
   "source": [
    "T.head()"
   ]
  },
  {
   "cell_type": "code",
   "execution_count": null,
   "metadata": {},
   "outputs": [],
   "source": [
    "T.DATE = pd.to_datetime()"
   ]
  }
 ],
 "metadata": {
  "kernelspec": {
   "display_name": "Python 3",
   "language": "python",
   "name": "python3"
  },
  "language_info": {
   "codemirror_mode": {
    "name": "ipython",
    "version": 3
   },
   "file_extension": ".py",
   "mimetype": "text/x-python",
   "name": "python",
   "nbconvert_exporter": "python",
   "pygments_lexer": "ipython3",
   "version": "3.7.7"
  }
 },
 "nbformat": 4,
 "nbformat_minor": 4
}
