{
 "cells": [
  {
   "cell_type": "code",
   "execution_count": 1,
   "metadata": {},
   "outputs": [
    {
     "ename": "ModuleNotFoundError",
     "evalue": "No module named 'myfunc'",
     "output_type": "error",
     "traceback": [
      "\u001b[0;31m---------------------------------------------------------------------------\u001b[0m",
      "\u001b[0;31mModuleNotFoundError\u001b[0m                       Traceback (most recent call last)",
      "\u001b[0;32m<ipython-input-1-65c9fc4f0abb>\u001b[0m in \u001b[0;36m<module>\u001b[0;34m\u001b[0m\n\u001b[1;32m      7\u001b[0m \u001b[0;32mimport\u001b[0m \u001b[0mstatsmodels\u001b[0m\u001b[0;34m.\u001b[0m\u001b[0mapi\u001b[0m \u001b[0;32mas\u001b[0m \u001b[0msm\u001b[0m\u001b[0;34m\u001b[0m\u001b[0;34m\u001b[0m\u001b[0m\n\u001b[1;32m      8\u001b[0m \u001b[0;32mfrom\u001b[0m \u001b[0mstatsmodels\u001b[0m\u001b[0;34m.\u001b[0m\u001b[0mdistributions\u001b[0m\u001b[0;34m.\u001b[0m\u001b[0mempirical_distribution\u001b[0m \u001b[0;32mimport\u001b[0m \u001b[0mECDF\u001b[0m\u001b[0;34m\u001b[0m\u001b[0;34m\u001b[0m\u001b[0m\n\u001b[0;32m----> 9\u001b[0;31m \u001b[0;32mfrom\u001b[0m \u001b[0mmyfunc\u001b[0m \u001b[0;32mimport\u001b[0m \u001b[0mOLS_mean\u001b[0m\u001b[0;34m,\u001b[0m \u001b[0mkernel_test\u001b[0m\u001b[0;34m,\u001b[0m \u001b[0mloc_poly\u001b[0m\u001b[0;34m,\u001b[0m\u001b[0mmy_bootstrap\u001b[0m\u001b[0;34m\u001b[0m\u001b[0;34m\u001b[0m\u001b[0m\n\u001b[0m",
      "\u001b[0;31mModuleNotFoundError\u001b[0m: No module named 'myfunc'"
     ]
    }
   ],
   "source": [
    "import pandas as pd\n",
    "import numpy as np\n",
    "from scipy import linalg as LA\n",
    "from scipy import stats as ST\n",
    "from matplotlib import pyplot as plt\n",
    "from statsmodels.graphics.tsaplots import plot_acf\n",
    "import statsmodels.api as sm\n",
    "from statsmodels.distributions.empirical_distribution import ECDF\n",
    "from myfunc import OLS_mean, kernel_test, loc_poly,my_bootstrap"
   ]
  },
  {
   "cell_type": "code",
   "execution_count": null,
   "metadata": {},
   "outputs": [],
   "source": [
    "def OLS_parameter(X, Y):\n",
    "    beta = sm.OLS(Y, sm.add_constant(X)).fit().params.T\n",
    "    return beta"
   ]
  },
  {
   "cell_type": "markdown",
   "metadata": {},
   "source": [
    " # Import Data\n",
    " 1. Return data. Here I use Sp500 constituents, can be extended to more stocks\n",
    " 2. Import Factor data from Factor Zoo"
   ]
  },
  {
   "cell_type": "code",
   "execution_count": null,
   "metadata": {},
   "outputs": [],
   "source": [
    "DATA = pd.read_csv(\n",
    "    'HPRET_monthly_correspondint_to_factor_zoo_all.csv')\n",
    "DATA.date = pd.to_datetime(DATA.date, format='%Y%m%d')\n",
    "\n",
    "DATA = DATA.drop(DATA[DATA.RET == 'C'].index)\n",
    "DATA = DATA.drop(DATA[DATA.RET == 'B'].index)\n",
    "DATA.RET = DATA['RET'].astype('float')\n",
    "RET = DATA.pivot_table('RET', index='PERMNO', columns='date')\n",
    "RET = RET.dropna(0).transpose()\n",
    "RET.iloc[0:5,0:5]"
   ]
  },
  {
   "cell_type": "code",
   "execution_count": null,
   "metadata": {},
   "outputs": [],
   "source": [
    "FACTOR = pd.read_csv(\n",
    "    'factors.csv')\n",
    "FACTOR.rename(columns={'  Date': 'date'}, inplace=True)\n",
    "FACTOR.date = pd.to_datetime(FACTOR.date, format='%Y%m%d')\n",
    "FACTOR = FACTOR.pivot_table(index = 'date')\n",
    "FACTOR = FACTOR.dropna(axis=1)\n",
    "FACTOR.iloc[0:5,0:5]"
   ]
  },
  {
   "cell_type": "markdown",
   "metadata": {},
   "source": [
    " # Individual test of nonlinearity"
   ]
  },
  {
   "cell_type": "code",
   "execution_count": null,
   "metadata": {},
   "outputs": [],
   "source": [
    "Result = np.zeros(147)\n",
    "Critical_left = np.zeros(147)\n",
    "Critical_right = np.zeros(147)\n",
    "average_ret = np.array(RET.mean())\n",
    "for i in range(0,1):\n",
    "    beta = np.array(OLS_parameter(FACTOR.iloc[:,i], RET).iloc[:, 1])\n",
    "    # average_ret = np.array(RET.iloc[8,:])\n",
    "    # plt.figure\n",
    "    # plt.scatter(beta, average_ret)\n",
    "    Result[i], Critical_left[i], Critical_right[i] = my_bootstrap(beta, average_ret)\n",
    "    print(i)\n",
    "# pd.DataFrame([Result, Critical_left,Critical_right]).to_csv('result.csv')\n"
   ]
  },
  {
   "cell_type": "code",
   "execution_count": null,
   "metadata": {},
   "outputs": [],
   "source": [
    "result = pd.read_csv('result.csv')\n",
    "(result.iloc[0, :] < result.iloc[1,:]).sum()\n",
    "(result.iloc[0, :] > result.iloc[2, :]).sum()"
   ]
  }
 ],
 "metadata": {
  "kernelspec": {
   "display_name": "Python 3",
   "language": "python",
   "name": "python3"
  },
  "language_info": {
   "codemirror_mode": {
    "name": "ipython",
    "version": 3
   },
   "file_extension": ".py",
   "mimetype": "text/x-python",
   "name": "python",
   "nbconvert_exporter": "python",
   "pygments_lexer": "ipython3",
   "version": "3.7.7"
  }
 },
 "nbformat": 4,
 "nbformat_minor": 2
}
